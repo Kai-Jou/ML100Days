{
 "cells": [
  {
   "cell_type": "code",
   "execution_count": 1,
   "metadata": {},
   "outputs": [
    {
     "name": "stdout",
     "output_type": "stream",
     "text": [
      "從讀取的資料型態看，可以先從目前測試最快的pkl檔讀取\n"
     ]
    }
   ],
   "source": [
    "# 1.在速度較慢的時候，可以先從哪邊開始檢查？\n",
    "\n",
    "print(\"從讀取的資料型態看，可以先從目前測試最快的pkl檔讀取\")"
   ]
  },
  {
   "cell_type": "code",
   "execution_count": 3,
   "metadata": {},
   "outputs": [
    {
     "name": "stdout",
     "output_type": "stream",
     "text": [
      "可以把整數型態 int 改成 uint 減少記憶體正用空間，\n",
      "以及浮點數型態 float64 改成 float32 減少記憶體正用空間\n"
     ]
    }
   ],
   "source": [
    "# 2. 資料過⼤時應採取什麼⽅式讓記憶體占⽤量下降？\n",
    "\n",
    "print(\"可以把整數型態 int 改成 uint 減少記憶體正用空間，\\n以及浮點數型態 float64 改成 float32 減少記憶體正用空間\")"
   ]
  },
  {
   "cell_type": "code",
   "execution_count": null,
   "metadata": {},
   "outputs": [],
   "source": []
  }
 ],
 "metadata": {
  "kernelspec": {
   "display_name": "Python 3",
   "language": "python",
   "name": "python3"
  },
  "language_info": {
   "codemirror_mode": {
    "name": "ipython",
    "version": 3
   },
   "file_extension": ".py",
   "mimetype": "text/x-python",
   "name": "python",
   "nbconvert_exporter": "python",
   "pygments_lexer": "ipython3",
   "version": "3.8.3"
  }
 },
 "nbformat": 4,
 "nbformat_minor": 4
}
