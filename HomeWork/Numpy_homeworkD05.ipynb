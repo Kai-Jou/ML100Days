{
 "cells": [
  {
   "cell_type": "markdown",
   "metadata": {},
   "source": [
    "題目:\n",
    "english_score = np.array([55,89,76,65,48,70])\n",
    "math_score = np.array([60,85,60,68,np.nan,60])\n",
    "chinese_score = np.array([65,90,82,72,66,77])\n",
    "上3列共六位同學的英文、數學、國文成績，第一個元素代表第一位同學，舉例第一位同學英文55分、數學60分、國文65分，今天第五位同學因某原因沒來考試，導致數學成績缺值，運用上列數據回答下列問題。\n",
    "\n",
    "請計算各科成績平均、最大值、最小值、標準差，其中數學缺一筆資料可忽略?\n",
    "第五位同學補考數學後成績為55，請計算補考後數學成績平均、最大值、最小值、標準差?\n",
    "用補考後資料找出與國文成績相關係數最高的學科?"
   ]
  },
  {
   "cell_type": "code",
   "execution_count": 1,
   "metadata": {},
   "outputs": [],
   "source": [
    "import numpy as np"
   ]
  },
  {
   "cell_type": "code",
   "execution_count": 2,
   "metadata": {},
   "outputs": [],
   "source": [
    "english_score = np.array([55,89,76,65,48,70])\n",
    "math_score = np.array([60,85,60,68,np.nan,60])\n",
    "chinese_score = np.array([65,90,82,72,66,77])"
   ]
  },
  {
   "cell_type": "code",
   "execution_count": 3,
   "metadata": {},
   "outputs": [],
   "source": [
    "#1. 請計算各科成績平均、最大值、最小值、標準差，其中數學缺一筆資料可忽略?"
   ]
  },
  {
   "cell_type": "code",
   "execution_count": 11,
   "metadata": {},
   "outputs": [
    {
     "name": "stdout",
     "output_type": "stream",
     "text": [
      "英文科\n",
      "平均： 67.16666666666667 最大值： 89 最小值： 48 標準差： 13.433995020924426 \n",
      "數學科\n",
      "平均： 66.6 最大值： 85.0 最小值： 60.0 標準差： 9.707728879609279 \n",
      "國文科\n",
      "平均： 75.33333333333333 最大值： 90 最小值： 65 標準差： 8.825468196582484\n"
     ]
    }
   ],
   "source": [
    "Em = np.mean(english_score)\n",
    "Mm = np.nanmean(math_score)\n",
    "Cm = np.mean(chinese_score)\n",
    "Ea = np.nanmax(english_score)\n",
    "Ma = np.nanmax(math_score)\n",
    "Ca = np.nanmax(chinese_score)\n",
    "Ei = np.nanmin(english_score)\n",
    "Mi = np.nanmin(math_score)\n",
    "Ci = np.nanmin(chinese_score)\n",
    "Estd = np.std(english_score)\n",
    "Mstd = np.nanstd(math_score)\n",
    "Cstd = np.std(chinese_score)\n",
    "print(\"英文科\\n平均：\",Em,\"最大值：\",Ea,\"最小值：\",Ei,\"標準差：\",Estd,\"\\n\"\n",
    "      \"數學科\\n平均：\",Mm,\"最大值：\",Ma,\"最小值：\",Mi,\"標準差：\",Mstd,\"\\n\"\n",
    "      \"國文科\\n平均：\",Cm,\"最大值：\",Ca,\"最小值：\",Ci,\"標準差：\",Cstd)"
   ]
  },
  {
   "cell_type": "code",
   "execution_count": null,
   "metadata": {},
   "outputs": [],
   "source": [
    "#2. 第五位同學補考數學後成績為55，請計算補考後數學成績平均、最大值、最小值、標準差?"
   ]
  },
  {
   "cell_type": "code",
   "execution_count": 12,
   "metadata": {},
   "outputs": [
    {
     "name": "stdout",
     "output_type": "stream",
     "text": [
      "數學科\n",
      "平均： 64.66666666666667 最大值： 85 最小值： 55 標準差： 9.860132971832694\n"
     ]
    }
   ],
   "source": [
    "Nmath_score = np.array([60,85,60,68,60,55])\n",
    "NMm = np.nanmean(Nmath_score)\n",
    "NMa = np.nanmax(Nmath_score)\n",
    "NMi = np.nanmin(Nmath_score)\n",
    "NMstd = np.nanstd(Nmath_score)\n",
    "print(\"數學科\\n平均：\",NMm,\"最大值：\",NMa,\"最小值：\",NMi,\"標準差：\",NMstd,)"
   ]
  },
  {
   "cell_type": "code",
   "execution_count": null,
   "metadata": {},
   "outputs": [],
   "source": [
    "#3. 用補考後資料找出與國文成績相關係數最高的學科?"
   ]
  },
  {
   "cell_type": "code",
   "execution_count": 22,
   "metadata": {},
   "outputs": [
    {
     "data": {
      "text/plain": [
       "array([[1.        , 0.63522861],\n",
       "       [0.63522861, 1.        ]])"
      ]
     },
     "execution_count": 22,
     "metadata": {},
     "output_type": "execute_result"
    }
   ],
   "source": [
    "CM = np.corrcoef([60,85,60,68,60,55],[65,90,82,72,66,77])\n",
    "CM"
   ]
  },
  {
   "cell_type": "code",
   "execution_count": 21,
   "metadata": {},
   "outputs": [
    {
     "data": {
      "text/plain": [
       "array([[1.        , 0.97792828],\n",
       "       [0.97792828, 1.        ]])"
      ]
     },
     "execution_count": 21,
     "metadata": {},
     "output_type": "execute_result"
    }
   ],
   "source": [
    "CE = np.corrcoef([55,89,76,65,48,70],[65,90,82,72,66,77])\n",
    "CE"
   ]
  },
  {
   "cell_type": "code",
   "execution_count": null,
   "metadata": {},
   "outputs": [],
   "source": []
  }
 ],
 "metadata": {
  "kernelspec": {
   "display_name": "Python 3",
   "language": "python",
   "name": "python3"
  },
  "language_info": {
   "codemirror_mode": {
    "name": "ipython",
    "version": 3
   },
   "file_extension": ".py",
   "mimetype": "text/x-python",
   "name": "python",
   "nbconvert_exporter": "python",
   "pygments_lexer": "ipython3",
   "version": "3.8.3"
  }
 },
 "nbformat": 4,
 "nbformat_minor": 4
}
